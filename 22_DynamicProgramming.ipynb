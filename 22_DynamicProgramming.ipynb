{
 "cells": [
  {
   "cell_type": "markdown",
   "metadata": {},
   "source": [
    "## Dynamic Programming"
   ]
  },
  {
   "cell_type": "markdown",
   "metadata": {},
   "source": [
    "Dynamic Programming can be understood using an example of Fibinacci series.  \n",
    "To achive an idea dynamic programming, It is importnant to have Overlapping subproblems(Problems similar to each,\n",
    "other, so that the values can be used with the method of memoization). and Optimaized structure.\n"
   ]
  },
  {
   "cell_type": "code",
   "execution_count": null,
   "metadata": {},
   "outputs": [],
   "source": [
    "counter = 0\n",
    "\n",
    "def fib(n): # Without Memoization\n",
    "    global counter\n",
    "    counter += 1\n",
    "    if n == 0 or n == 1:\n",
    "        return n\n",
    "    \n",
    "    return fib(n-1) + fib(n-2)\n",
    "\n",
    "n = 35\n",
    "print(f\"Fibbinacci of {n} is {fib(n)}\")\n",
    "print(f\"Number of times fib function was called: {counter}\")\n",
    "\n",
    "\"\"\" \n",
    "Output :- Fibonacci of 35 is 9227465\n",
    "Number of times fib function was called: 29860703\n",
    "\"\"\"\n"
   ]
  },
  {
   "cell_type": "markdown",
   "metadata": {},
   "source": [
    "One of the biggest problem of not using memoization in dynamic programming is that it has a big o of O(2^n)\n"
   ]
  },
  {
   "cell_type": "code",
   "execution_count": null,
   "metadata": {},
   "outputs": [],
   "source": [
    "memo = [None] * 100\n",
    "def memofib(n): # With Memoization\n",
    "    global counter\n",
    "    counter += 1\n",
    "    if memo[n] is not None:\n",
    "        return memo[n]\n",
    "    \n",
    "    if n == 0 or n == 1:\n",
    "        return n\n",
    "    \n",
    "    memo[n] = memofib(n-1) + memofib(n-2)\n",
    "    return memo[n]\n",
    "\n",
    "n = 35\n",
    "print(f\"Fibbinacci of {n} is {memofib(n)}\")\n",
    "print(f\"Number of times fib function was called: {counter}\")\n",
    "\n",
    "\"\"\"\n",
    "Output:-\n",
    "Fibbinacci of 35 is 9227465\n",
    "Number of times fib function was called: 69\n",
    "\"\"\"\n"
   ]
  },
  {
   "cell_type": "markdown",
   "metadata": {},
   "source": [
    "Memoization solves problem as the above problem can have a big o of O(n) if memoization is used.  \n",
    "We can also see that this is done by 'TOP DOWN' method.\n",
    "\n",
    "\n",
    "However, We can apply the 'BOTTOM UP' technique to this by doing it iteratively.    \n",
    "This also have a big o of O(n). THe only downside of this is that is taking a lot of memory and it is being stored. "
   ]
  },
  {
   "cell_type": "code",
   "execution_count": null,
   "metadata": {},
   "outputs": [],
   "source": [
    "counter = 0\n",
    "\n",
    "def bu_fib(n):\n",
    "    global counter\n",
    "    fib_list = [0, 1]\n",
    "    for index in range(2, n + 1):\n",
    "        counter += 1\n",
    "        next_fib = fib_list[index - 1] + fib_list[index - 2]\n",
    "        fib_list.append(next_fib)\n",
    "    return fib_list[n]    \n",
    "\n",
    "n = 35\n",
    "print(f\"Fibbinacci of {n} is {bu_fib(n)}\")\n",
    "print(f\"Number of times fib function was called: {counter}\")\n",
    "\n",
    "\"\"\"\n",
    "Output:-\n",
    "Fibbinacci of 35 is 9227465\n",
    "Number of times fib function was called: 34\n",
    "\"\"\""
   ]
  }
 ],
 "metadata": {
  "kernelspec": {
   "display_name": "Python 3",
   "language": "python",
   "name": "python3"
  },
  "language_info": {
   "codemirror_mode": {
    "name": "ipython",
    "version": 3
   },
   "file_extension": ".py",
   "mimetype": "text/x-python",
   "name": "python",
   "nbconvert_exporter": "python",
   "pygments_lexer": "ipython3",
   "version": "3.12.2"
  }
 },
 "nbformat": 4,
 "nbformat_minor": 2
}
