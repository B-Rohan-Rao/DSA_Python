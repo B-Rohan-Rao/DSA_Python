{
 "cells": [
  {
   "cell_type": "markdown",
   "metadata": {},
   "source": [
    "## Bubble Sort\n",
    "\n",
    "Let's assume a list to be [4, 2, 6, 5, 1, 3]\n",
    "Here, the sorting is occured by comparing two values in a list. In the above list, first 4 will be compared with 2 and will be replaced.   \n",
    "Then 4 will be compared with 6. As 6 is larger than 4, the position of 4 remains unchanged and 6 is further compared with 5 and is replaced.   \n",
    "This occurs until 6 finds its best postion.\n",
    "it will look like this = [2, 4, 5, 1, 3, 6]  \n",
    "These steps are repeated further followed in Iteration 2 = [2, 4, 1, 3, 5, 6]  \n",
    "Iteration 3 = [2, 1, 3, 4, 5, 6]  \n",
    "Iteration 4 = [1, 2, 3, 4, 5, 6]  "
   ]
  },
  {
   "cell_type": "code",
   "execution_count": 1,
   "metadata": {},
   "outputs": [
    {
     "name": "stdout",
     "output_type": "stream",
     "text": [
      "[1, 2, 3, 4, 5, 6]\n"
     ]
    }
   ],
   "source": [
    "def bubble_sort(my_list):\n",
    "    for i in range(len(my_list) - 1, 0, -1):\n",
    "        for j in range(i):\n",
    "            if my_list[j] > my_list[j + 1]:\n",
    "                # temp = my_list[i]\n",
    "                # my_list[i] = my_list[j + 1]\n",
    "                # my_list[j + 1] = temp\n",
    "                my_list[j], my_list[j + 1] = my_list[j + 1], my_list[j]\n",
    "    return my_list\n",
    "\n",
    "\n",
    "print(bubble_sort([4, 2, 6, 5, 1, 3]))\n"
   ]
  },
  {
   "cell_type": "markdown",
   "metadata": {},
   "source": [
    "## Selection Sort\n",
    "\n",
    "my_list = [1, 2, 3, 4, 5, 6]  \n",
    "Here we are going to look at the index.   \n",
    "In iteration 1, since 4 is the first value that we have seen yet, min_index = 0  \n",
    "Further, since 2 is the smaller than 4, min_index = 1  \n",
    "Further, since 1 is the smaller than 2, min_index = 4  \n",
    "Then when we get the min. value and it's index, we are going to switch. It should be noted that we are storing the index and \n",
    "not the value in min_index.    \n",
    "It should look like this = [1, 2, 6, 5, 4, 3]    \n",
    "Iteration 2 = No change because two is the min value.  \n",
    "Iteration 3 = [1, 2, 3, 5, 4, 6]  \n",
    "Iteration 4 = [1, 2, 3, 4, 5, 6]  "
   ]
  },
  {
   "cell_type": "code",
   "execution_count": 2,
   "metadata": {},
   "outputs": [
    {
     "name": "stdout",
     "output_type": "stream",
     "text": [
      "[1, 2, 3, 4, 5, 6]\n"
     ]
    }
   ],
   "source": [
    "def selection_sort(my_list):\n",
    "    for i in range(len(my_list) - 1):\n",
    "        min_index = i\n",
    "        for j in range(i + 1, len(my_list)):\n",
    "            if my_list[j] < my_list[min_index]:\n",
    "                min_index = j\n",
    "        if i != min_index:\n",
    "            my_list[i], my_list[min_index] = my_list[min_index], my_list[i]\n",
    "    return my_list\n",
    "\n",
    "print(selection_sort([4, 2, 6, 5, 1, 3]))"
   ]
  },
  {
   "cell_type": "markdown",
   "metadata": {},
   "source": [
    "## Insertion Sort\n",
    "\n",
    "In this we always start from the second item in the list and compare it to the item before it. if it is smaller than the item\n",
    "before it, we drop the item before it.   \n",
    "For example - [4, 2, 6, 5, 1, 3]  \n",
    "the it will look like this in Iteration 1 - [2, 4, 6, 5, 1, 3]  \n",
    "Iteration 2 - No change as 6 is not less than 4  \n",
    "Iteration 3 - [2, 4, 5, 6, 1, 3]  \n",
    "Iteration 4 - [1, 2, 4, 5, 6, 3]  \n",
    "Iteration 5 - [1, 2, 3, 4, 5, 6]  "
   ]
  },
  {
   "cell_type": "code",
   "execution_count": 3,
   "metadata": {},
   "outputs": [
    {
     "name": "stdout",
     "output_type": "stream",
     "text": [
      "[1, 2, 3, 4, 5, 6]\n"
     ]
    }
   ],
   "source": [
    "def insertion_sort(my_list):\n",
    "    for i in range(1, len(my_list)):\n",
    "        temp = my_list[i]\n",
    "        j = i - 1\n",
    "        while j >= 0 and temp < my_list[j]:\n",
    "            my_list[j + 1] = my_list[j]\n",
    "            j -= 1\n",
    "        my_list[j + 1] = temp\n",
    "    return my_list\n",
    "\n",
    "print(insertion_sort([4, 2, 6, 5, 1, 3]))"
   ]
  }
 ],
 "metadata": {
  "kernelspec": {
   "display_name": "Python 3",
   "language": "python",
   "name": "python3"
  },
  "language_info": {
   "codemirror_mode": {
    "name": "ipython",
    "version": 3
   },
   "file_extension": ".py",
   "mimetype": "text/x-python",
   "name": "python",
   "nbconvert_exporter": "python",
   "pygments_lexer": "ipython3",
   "version": "3.12.2"
  }
 },
 "nbformat": 4,
 "nbformat_minor": 2
}
