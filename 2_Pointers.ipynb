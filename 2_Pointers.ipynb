{
 "cells": [
  {
   "cell_type": "markdown",
   "metadata": {},
   "source": [
    "Pointers as List\n"
   ]
  },
  {
   "cell_type": "code",
   "execution_count": 1,
   "metadata": {},
   "outputs": [
    {
     "name": "stdout",
     "output_type": "stream",
     "text": [
      "Before num2 is updated\n",
      "the value of num1 is 11\n",
      "the value of num2 is 11\n",
      "\n",
      " num1 points to 140728043129592\n",
      "\n",
      " num2 points to 140728043129592\n",
      "after num2 is updated\n",
      "the value of num1 is 11\n",
      "the value of num2 is 22\n",
      "\n",
      " num1 points to 140728043129592\n",
      "\n",
      " num2 points to 140728043129944\n"
     ]
    }
   ],
   "source": [
    "num1 = 11\n",
    "num2 = num1\n",
    "\n",
    "print(\"Before num2 is updated\")\n",
    "print(\"the value of num1 is\", num1)\n",
    "print(\"the value of num2 is\", num2)\n",
    "\n",
    "print(\"\\n num1 points to\", id(num1))\n",
    "print(\"\\n num2 points to\", id(num2))\n",
    "\n",
    "num2 = 22\n",
    "print(\"after num2 is updated\")\n",
    "print(\"the value of num1 is\", num1)\n",
    "print(\"the value of num2 is\", num2)\n",
    "\n",
    "print(\"\\n num1 points to\", id(num1))\n",
    "print(\"\\n num2 points to\", id(num2))\n"
   ]
  },
  {
   "cell_type": "markdown",
   "metadata": {},
   "source": [
    "Pointers in Dict"
   ]
  },
  {
   "cell_type": "code",
   "execution_count": 3,
   "metadata": {},
   "outputs": [
    {
     "name": "stdout",
     "output_type": "stream",
     "text": [
      "Before updating the dict2\n",
      "dict1 =  {'value': 11}\n",
      "dict2 =  {'value': 11}\n",
      "\n",
      " dict2 points to 2660164838080\n",
      "\n",
      " dict2 points to 2660164838080\n",
      "After updating the dict2\n",
      "dict1 =  {'value': 22}\n",
      "dict2 =  {'value': 22}\n",
      "\n",
      " dict2 points to 2660164838080\n",
      "\n",
      " dict2 points to 2660164838080\n"
     ]
    }
   ],
   "source": [
    "dict1 = {\"value\": 11}\n",
    "dict2 = dict1\n",
    "\n",
    "print(\"Before updating the dict2\")\n",
    "print(\"dict1 = \", dict1)\n",
    "print(\"dict2 = \", dict2)\n",
    "\n",
    "print(\"\\n dict2 points to\", id(dict1))\n",
    "print(\"\\n dict2 points to\", id(dict2))\n",
    "dict2[\"value\"] = 22\n",
    "\n",
    "print(\"After updating the dict2\")\n",
    "print(\"dict1 = \", dict1)\n",
    "print(\"dict2 = \", dict2)\n",
    "\n",
    "print(\"\\n dict2 points to\", id(dict1))\n",
    "print(\"\\n dict2 points to\", id(dict2))\n"
   ]
  }
 ],
 "metadata": {
  "kernelspec": {
   "display_name": "Python 3",
   "language": "python",
   "name": "python3"
  },
  "language_info": {
   "codemirror_mode": {
    "name": "ipython",
    "version": 3
   },
   "file_extension": ".py",
   "mimetype": "text/x-python",
   "name": "python",
   "nbconvert_exporter": "python",
   "pygments_lexer": "ipython3",
   "version": "3.12.2"
  }
 },
 "nbformat": 4,
 "nbformat_minor": 2
}
